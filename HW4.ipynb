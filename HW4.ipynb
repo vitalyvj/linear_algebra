{
 "cells": [
  {
   "cell_type": "code",
   "execution_count": 1,
   "metadata": {},
   "outputs": [],
   "source": [
    "import numpy as np"
   ]
  },
  {
   "cell_type": "markdown",
   "metadata": {},
   "source": [
    "__Задание 1.__ Вычислить определитель:\n",
    "\n",
    "   a)\n",
    "\n",
    "$$\\begin{vmatrix}\n",
    "sinx & -cosx\\\\ \n",
    "cosx & sinx\n",
    "\\end{vmatrix};$$\n",
    "\n",
    "   б)\n",
    "    \n",
    "$$\\begin{vmatrix}\n",
    "4 & 2 & 3\\\\ \n",
    "0 & 5 & 1\\\\ \n",
    "0 & 0 & 9\n",
    "\\end{vmatrix};$$\n",
    "    \n",
    "   в)\n",
    "\n",
    "$$\\begin{vmatrix}\n",
    "1 & 2 & 3\\\\ \n",
    "4 & 5 & 6\\\\ \n",
    "7 & 8 & 9\n",
    "\\end{vmatrix}.$$"
   ]
  },
  {
   "cell_type": "markdown",
   "metadata": {},
   "source": [
    "a) \n",
    "$\\ \\begin{vmatrix}\n",
    "sinx & -cosx\\\\ \n",
    "cosx & sinx\n",
    "\\end{vmatrix} =\n",
    "sin^2 x + cos^2 x = 1\n",
    "$"
   ]
  },
  {
   "cell_type": "code",
   "execution_count": 2,
   "metadata": {},
   "outputs": [
    {
     "data": {
      "text/plain": [
       "1.0"
      ]
     },
     "execution_count": 2,
     "metadata": {},
     "output_type": "execute_result"
    }
   ],
   "source": [
    "x = np.random.randint(100)\n",
    "np.linalg.det([\n",
    "    [np.sin(x), -np.cos(x)],\n",
    "    [np.cos(x), np.sin(x)]\n",
    "])"
   ]
  },
  {
   "cell_type": "markdown",
   "metadata": {},
   "source": [
    "б)\n",
    "$\\ \\begin{vmatrix}\n",
    "4 & 2 & 3\\\\ \n",
    "0 & 5 & 1\\\\ \n",
    "0 & 0 & 9\n",
    "\\end{vmatrix}=\n",
    "4\\cdot5\\cdot9=180$"
   ]
  },
  {
   "cell_type": "code",
   "execution_count": 3,
   "metadata": {},
   "outputs": [
    {
     "data": {
      "text/plain": [
       "180.0"
      ]
     },
     "execution_count": 3,
     "metadata": {},
     "output_type": "execute_result"
    }
   ],
   "source": [
    "np.linalg.det([\n",
    "    [4, 2, 3],\n",
    "    [0, 5, 1],\n",
    "    [0, 0, 9]\n",
    "])"
   ]
  },
  {
   "cell_type": "markdown",
   "metadata": {},
   "source": [
    "в)\n",
    "$\\ \\begin{vmatrix}\n",
    "1 & 2 & 3\\\\ \n",
    "4 & 5 & 6\\\\ \n",
    "7 & 8 & 9\n",
    "\\end{vmatrix}=\n",
    "\\begin{vmatrix}\n",
    "1 & 2 & 3\\\\ \n",
    "0 & 3 & 6\\\\ \n",
    "7 & 8 & 9\n",
    "\\end{vmatrix}=\n",
    "\\begin{vmatrix}\n",
    "1 & 2 & 3\\\\ \n",
    "0 & 3 & 6\\\\ \n",
    "0 & 6 & 12\n",
    "\\end{vmatrix}=\n",
    "\\begin{vmatrix}\n",
    "1 & 2 & 3\\\\ \n",
    "0 & 3 & 6\\\\ \n",
    "0 & 0 & 0\n",
    "\\end{vmatrix}=0\n",
    "$"
   ]
  },
  {
   "cell_type": "code",
   "execution_count": 4,
   "metadata": {},
   "outputs": [
    {
     "data": {
      "text/plain": [
       "0.0"
      ]
     },
     "execution_count": 4,
     "metadata": {},
     "output_type": "execute_result"
    }
   ],
   "source": [
    "np.linalg.det([\n",
    "    [1, 2, 3],\n",
    "    [4, 5, 6],\n",
    "    [7, 8, 9]\n",
    "])"
   ]
  },
  {
   "cell_type": "markdown",
   "metadata": {},
   "source": [
    "__Задание 2.__ Определитель матрицы $A$ равен $4$. Найти:\n",
    "\n",
    "   а) $det(A^{2})$;\n",
    "    \n",
    "   б) $det(A^{T})$;\n",
    "    \n",
    "   в) $det(2A)$."
   ]
  },
  {
   "cell_type": "markdown",
   "metadata": {},
   "source": [
    "a) $det(AB)=detA\\cdot detB \\Rightarrow det(A^2)=(detA)^2=4^2=16$"
   ]
  },
  {
   "cell_type": "markdown",
   "metadata": {},
   "source": [
    "б) $detA^{T}=detA \\Rightarrow det(A^{T})=4$"
   ]
  },
  {
   "cell_type": "markdown",
   "metadata": {},
   "source": [
    "в) $det(2A) = 2^n \\cdot det(A) = 2^n \\cdot 4= 2^{n+2},$ где $n$ - размер матрицы"
   ]
  },
  {
   "cell_type": "markdown",
   "metadata": {},
   "source": [
    "__Задание 3.__  Доказать, что матрица\n",
    "\n",
    "$$\\begin{pmatrix}\n",
    "-2 & 7 & -3\\\\ \n",
    "4 & -14 & 6\\\\ \n",
    "-3 & 7 & 13\n",
    "\\end{pmatrix}$$\n",
    "   \n",
    "вырожденная."
   ]
  },
  {
   "cell_type": "markdown",
   "metadata": {},
   "source": [
    "$\\begin{pmatrix}\n",
    "-2 & 7 & -3\\\\ \n",
    "4 & -14 & 6\\\\ \n",
    "-3 & 7 & 13\n",
    "\\end{pmatrix}=\n",
    "\\begin{pmatrix}\n",
    "-2 & 7 & -3\\\\\n",
    "0 & 0 & 0\\\\ \n",
    "-3 & 7 & 13\n",
    "\\end{pmatrix}\n",
    "\\Rightarrow det=0 \\Rightarrow$\n",
    "матрица является вырожденной"
   ]
  },
  {
   "cell_type": "code",
   "execution_count": 5,
   "metadata": {},
   "outputs": [
    {
     "data": {
      "text/plain": [
       "0.0"
      ]
     },
     "execution_count": 5,
     "metadata": {},
     "output_type": "execute_result"
    }
   ],
   "source": [
    "np.linalg.det([\n",
    "    [-2, 7, -3],\n",
    "    [4, -14, 6],\n",
    "    [-3, 7, 13]\n",
    "])"
   ]
  },
  {
   "cell_type": "markdown",
   "metadata": {},
   "source": [
    "__Задание 4.__ Найти ранг матрицы:\n",
    "\n",
    "   а) $\\begin{pmatrix}\n",
    "1 & 2 & 3\\\\ \n",
    "1 & 1 & 1\\\\ \n",
    "2 & 3 & 4\n",
    "\\end{pmatrix};$\n",
    "\n",
    "   б) $\\begin{pmatrix}\n",
    "0 & 0 & 2 & 1\\\\ \n",
    "0 & 0 & 2 & 2\\\\ \n",
    "0 & 0 & 4 & 3\\\\ \n",
    "2 & 3 & 5 & 6\n",
    "\\end{pmatrix}.$"
   ]
  },
  {
   "cell_type": "markdown",
   "metadata": {},
   "source": [
    "а)\n",
    "$\\begin{pmatrix}\n",
    "1 & 2 & 3\\\\ \n",
    "1 & 1 & 1\\\\ \n",
    "2 & 3 & 4\n",
    "\\end{pmatrix}=\n",
    "\\begin{pmatrix}\n",
    "1 & 2 & 3\\\\ \n",
    "2 & 3 & 4\\\\ \n",
    "2 & 3 & 4\n",
    "\\end{pmatrix}=\n",
    "\\begin{pmatrix}\n",
    "1 & 2 & 3\\\\ \n",
    "2 & 3 & 4\\\\ \n",
    "0 & 0 & 0\n",
    "\\end{pmatrix}=\n",
    "\\begin{pmatrix}\n",
    "1 & 2 & 3\\\\ \n",
    "0 & 1 & 2\\\\ \n",
    "0 & 0 & 0\n",
    "\\end{pmatrix}\n",
    "\\Rightarrow$\n",
    "ранг матрицы = 2"
   ]
  },
  {
   "cell_type": "code",
   "execution_count": 6,
   "metadata": {},
   "outputs": [
    {
     "data": {
      "text/plain": [
       "2"
      ]
     },
     "execution_count": 6,
     "metadata": {},
     "output_type": "execute_result"
    }
   ],
   "source": [
    "np.linalg.matrix_rank([\n",
    "    [1, 2, 3],\n",
    "    [1, 1, 1],\n",
    "    [2, 3, 4]\n",
    "])"
   ]
  },
  {
   "cell_type": "markdown",
   "metadata": {},
   "source": [
    "б)\n",
    "$\\begin{pmatrix}\n",
    "0 & 0 & 2 & 1\\\\ \n",
    "0 & 0 & 2 & 2\\\\ \n",
    "0 & 0 & 4 & 3\\\\ \n",
    "2 & 3 & 5 & 6\n",
    "\\end{pmatrix}=\n",
    "\\begin{pmatrix}\n",
    "2 & 3 & 5 & 6\\\\\n",
    "0 & 0 & 2 & 2\\\\ \n",
    "0 & 0 & 4 & 3\\\\ \n",
    "0 & 0 & 2 & 1\\\\ \n",
    "\\end{pmatrix}=\n",
    "\\begin{pmatrix}\n",
    "2 & 3 & 5 & 6\\\\\n",
    "0 & 0 & 2 & 2\\\\ \n",
    "0 & 0 & 0 & 1\\\\ \n",
    "0 & 0 & 0 & 1\\\\ \n",
    "\\end{pmatrix}=\n",
    "\\begin{pmatrix}\n",
    "2 & 3 & 5 & 6\\\\\n",
    "0 & 0 & 2 & 2\\\\ \n",
    "0 & 0 & 0 & 1\\\\ \n",
    "0 & 0 & 0 & 0\\\\ \n",
    "\\end{pmatrix}\n",
    "\\Rightarrow$\n",
    "ранг матрицы = 3"
   ]
  },
  {
   "cell_type": "code",
   "execution_count": 7,
   "metadata": {},
   "outputs": [
    {
     "data": {
      "text/plain": [
       "3"
      ]
     },
     "execution_count": 7,
     "metadata": {},
     "output_type": "execute_result"
    }
   ],
   "source": [
    "np.linalg.matrix_rank([\n",
    "    [0, 0, 2, 1],\n",
    "    [0, 0, 2, 2],\n",
    "    [0, 0, 4, 3],\n",
    "    [2, 3, 5, 6]\n",
    "])"
   ]
  }
 ],
 "metadata": {
  "kernelspec": {
   "display_name": "Python 3",
   "language": "python",
   "name": "python3"
  },
  "language_info": {
   "codemirror_mode": {
    "name": "ipython",
    "version": 3
   },
   "file_extension": ".py",
   "mimetype": "text/x-python",
   "name": "python",
   "nbconvert_exporter": "python",
   "pygments_lexer": "ipython3",
   "version": "3.8.6"
  }
 },
 "nbformat": 4,
 "nbformat_minor": 4
}
