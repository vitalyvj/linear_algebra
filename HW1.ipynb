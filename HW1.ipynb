{
 "cells": [
  {
   "cell_type": "markdown",
   "metadata": {},
   "source": [
    "__Задание 1.__ Исследовать на линейную зависимость:\n",
    "$$f_{1}(x)=e^{x}, f_{2}(x)=1, f_{3}(x)=x+1, f_{4}(x)=x-e^{x}.$$"
   ]
  },
  {
   "cell_type": "markdown",
   "metadata": {},
   "source": [
    "$f_{1}(x)+f_{2}(x)+(-1) \\cdot f_{3}(x)+f_{4}(x)=e^{x}+1-x-1+x-e^{x}=0$"
   ]
  },
  {
   "cell_type": "markdown",
   "metadata": {},
   "source": [
    "Т.е. существуют такие $\\lambda_{1}, \\lambda_{2}, ..., \\lambda_{n}$, отличные от нуля, что $\\lambda_{1}u_{1}+\\lambda_{2}u_{2}+...+\\lambda_{n}u_{n}=0.$ Следовательно, векторы являются линейно зависимыми."
   ]
  },
  {
   "cell_type": "markdown",
   "metadata": {},
   "source": [
    "__Задание 2.__ Исследовать на линейную зависимость:\n",
    "$$f_{1}(x)=2, f_{2}(x)=x, f_{3}(x)=x^{2}, f_{4}(x)=(x+1)^{2}.$$"
   ]
  },
  {
   "cell_type": "markdown",
   "metadata": {},
   "source": [
    "$f_{4}(x)=(x+1)^{2}=x^{2}+2x+1$"
   ]
  },
  {
   "cell_type": "markdown",
   "metadata": {},
   "source": [
    "$(-0.5)\\cdot f_{1}(x)+(-2)\\cdot f_{2}(x)+(-1) \\cdot f_{3}(x)+f_{4}(x)=-1-2x-x^2+x^2+2x+1=0$"
   ]
  },
  {
   "cell_type": "markdown",
   "metadata": {},
   "source": [
    "Т.е. существуют такие $\\lambda_{1}, \\lambda_{2}, ..., \\lambda_{n}$, отличные от нуля, что $\\lambda_{1}u_{1}+\\lambda_{2}u_{2}+...+\\lambda_{n}u_{n}=0.$ Следовательно, векторы являются линейно зависимыми."
   ]
  },
  {
   "cell_type": "markdown",
   "metadata": {
    "id": "DFrjdtbHkVqS"
   },
   "source": [
    "__Задание 3.__ Найти координаты вектора $x = (2, 3, 5)\\in \\mathbb{R}^{3}$ в базисе $b_{1}=(0, 0, 10)$, $b_{2}=(2, 0, 0)$, $b_{3}=(0, 1, 0)$."
   ]
  },
  {
   "cell_type": "markdown",
   "metadata": {},
   "source": [
    "$x = 2e_1+3e_2+5e_3 = 0.5b_1+b_2+3b_3$"
   ]
  },
  {
   "cell_type": "markdown",
   "metadata": {
    "id": "5la-eVLukVqT"
   },
   "source": [
    "__Задание 4.__ Найти координаты вектора $3x^{2}-2x+2\\in\\mathbb{R}^{3}[x]$:\n",
    "\n",
    "   а) в базисе $1$, $x$, $x^{2}$;\n",
    "\n",
    "   б) в базисе $x^{2}$, $x-1$, $1$."
   ]
  },
  {
   "cell_type": "markdown",
   "metadata": {},
   "source": [
    "а) $3x^{2}-2x+2=2a_1-2a_2+3a_3$"
   ]
  },
  {
   "cell_type": "markdown",
   "metadata": {},
   "source": [
    "б) $3x^{2}-2x+2=3x^{2}-2(x-1)=3b_1-2b_2+0b_3$"
   ]
  },
  {
   "cell_type": "markdown",
   "metadata": {
    "id": "kQlell_GkVqU"
   },
   "source": [
    "__Задание 5.__ Установить, является ли линейным подпространством:\n",
    "\n",
    "а) совокупность всех векторов трехмерного пространства, у которых по крайней мере одна из первых двух координат равна нулю;\n",
    "    \n",
    "б) все векторы, являющиеся линейными комбинациями данных векторов $\\{u_{1}, u_{2}, ..., u_{n}\\}$."
   ]
  },
  {
   "cell_type": "markdown",
   "metadata": {
    "id": "bxtLt-bdkVmu"
   },
   "source": [
    "Подмножество $L$ линейного пространства $V$ является его подпространством тогда и только тогда, когда для любых элементов $u, v\\in L$ и любого $\\alpha \\in \\mathbb{R}$ выполняются условия:\n",
    "\n",
    "$$1)\\ u+v\\in L;$$\n",
    "\n",
    "$$2)\\ \\alpha\\cdot u \\in L.$$\n"
   ]
  },
  {
   "cell_type": "markdown",
   "metadata": {},
   "source": [
    "а) $(0, a_2, a_3) + (b_1, 0, b_3) + (0, 0, c_3) = (b_1, a_2, a_3+b_3+c_3) \\notin L$, т.к. по крайней мере одна из первых двух координат должна быть равна нулю."
   ]
  },
  {
   "cell_type": "markdown",
   "metadata": {},
   "source": [
    "б) <br>\n",
    "$u = a_1u_1 + a_2u_2 + ... + a_nu_n$ <br>\n",
    "$v = b_1u_1 + b_2u_2 + ... + b_nu_n$"
   ]
  },
  {
   "cell_type": "markdown",
   "metadata": {},
   "source": [
    "$1)\\ u+v \\in L:\n",
    "u+v=(a_1+b_1)u_1+(a_2+b_2)u_2+...+(a_n+b_n)u_n \\in L$"
   ]
  },
  {
   "cell_type": "markdown",
   "metadata": {},
   "source": [
    "$2)\\ \\alpha\\cdot u \\in L:\n",
    "\\alpha\\cdot u=\\alpha\\cdot a_1u_1+\\alpha\\cdot a_2u_2+...+\\alpha\\cdot a_nu_n \\in L$"
   ]
  }
 ],
 "metadata": {
  "kernelspec": {
   "display_name": "Python 3",
   "language": "python",
   "name": "python3"
  },
  "language_info": {
   "codemirror_mode": {
    "name": "ipython",
    "version": 3
   },
   "file_extension": ".py",
   "mimetype": "text/x-python",
   "name": "python",
   "nbconvert_exporter": "python",
   "pygments_lexer": "ipython3",
   "version": "3.8.5"
  }
 },
 "nbformat": 4,
 "nbformat_minor": 4
}
