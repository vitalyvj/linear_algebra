{
 "cells": [
  {
   "cell_type": "code",
   "execution_count": 1,
   "metadata": {},
   "outputs": [],
   "source": [
    "import numpy as np\n",
    "import scipy.linalg\n",
    "import warnings\n",
    "warnings.filterwarnings('ignore')"
   ]
  },
  {
   "cell_type": "markdown",
   "metadata": {},
   "source": [
    "__Задание 1.__ Решить систему уравнений методом Крамера:\n",
    "\n",
    "   а) $\\begin{cases}\n",
    "x_{1}-2x_{2}=1 \\\\\n",
    "3x_{1}-4x_{2}=7\n",
    "\\end{cases}$\n",
    "    \n",
    "   б) $\\begin{cases}\n",
    "2x_{1}-x_{2}+5x_{3}=10 \\\\\n",
    "x_{1}+x_{2}-3x_{3}=-2 \\\\\n",
    "2x_{1}+4x_{2}+x_{3}=1\n",
    "\\end{cases}$"
   ]
  },
  {
   "cell_type": "markdown",
   "metadata": {},
   "source": [
    "а)"
   ]
  },
  {
   "cell_type": "code",
   "execution_count": 2,
   "metadata": {},
   "outputs": [],
   "source": [
    "A = np.array([[1, -2], \n",
    "              [3, -4]])\n",
    "\n",
    "b = np.array([1, 7])"
   ]
  },
  {
   "cell_type": "code",
   "execution_count": 3,
   "metadata": {},
   "outputs": [
    {
     "data": {
      "text/plain": [
       "2.0"
      ]
     },
     "execution_count": 3,
     "metadata": {},
     "output_type": "execute_result"
    }
   ],
   "source": [
    "det_A = np.linalg.det(A)\n",
    "\n",
    "det_A.round()"
   ]
  },
  {
   "cell_type": "code",
   "execution_count": 4,
   "metadata": {},
   "outputs": [
    {
     "data": {
      "text/plain": [
       "(array([[ 1, -2],\n",
       "        [ 7, -4]]),\n",
       " array([[1, 1],\n",
       "        [3, 7]]))"
      ]
     },
     "execution_count": 4,
     "metadata": {},
     "output_type": "execute_result"
    }
   ],
   "source": [
    "A1 = A.copy()\n",
    "A1[:, 0] = b\n",
    "\n",
    "A2 = A.copy()\n",
    "A2[:, 1] = b\n",
    "\n",
    "A1, A2"
   ]
  },
  {
   "cell_type": "code",
   "execution_count": 5,
   "metadata": {},
   "outputs": [],
   "source": [
    "det_A1 = np.linalg.det(A1)\n",
    "det_A2 = np.linalg.det(A2)"
   ]
  },
  {
   "cell_type": "code",
   "execution_count": 6,
   "metadata": {},
   "outputs": [
    {
     "name": "stdout",
     "output_type": "stream",
     "text": [
      "x1 = 5.0\n",
      "x2 = 2.0\n"
     ]
    }
   ],
   "source": [
    "print(f'x1 = {det_A1 / det_A:.1f}\\nx2 = {det_A2 / det_A:.1f}')"
   ]
  },
  {
   "cell_type": "markdown",
   "metadata": {},
   "source": [
    "*Проверка:*"
   ]
  },
  {
   "cell_type": "code",
   "execution_count": 7,
   "metadata": {},
   "outputs": [
    {
     "data": {
      "text/plain": [
       "array([5., 2.])"
      ]
     },
     "execution_count": 7,
     "metadata": {},
     "output_type": "execute_result"
    }
   ],
   "source": [
    "np.linalg.solve(A, b)"
   ]
  },
  {
   "cell_type": "markdown",
   "metadata": {},
   "source": [
    "б)"
   ]
  },
  {
   "cell_type": "code",
   "execution_count": 8,
   "metadata": {},
   "outputs": [],
   "source": [
    "A = np.array([[2, -1, 5],\n",
    "              [1, 1, -3],\n",
    "              [2, 4, 1]])\n",
    "\n",
    "b = np.array([10, -2, 1])"
   ]
  },
  {
   "cell_type": "code",
   "execution_count": 9,
   "metadata": {},
   "outputs": [
    {
     "data": {
      "text/plain": [
       "43.0"
      ]
     },
     "execution_count": 9,
     "metadata": {},
     "output_type": "execute_result"
    }
   ],
   "source": [
    "det_A = np.linalg.det(A)\n",
    "\n",
    "det_A.round()"
   ]
  },
  {
   "cell_type": "code",
   "execution_count": 10,
   "metadata": {},
   "outputs": [],
   "source": [
    "dict_A = {'A1': A.copy() ,'A2': A.copy(), 'A3': A.copy()}\n",
    "\n",
    "for i in range(A.shape[1]):\n",
    "    dict_A[f'A{i + 1}'][:, i] = b   "
   ]
  },
  {
   "cell_type": "code",
   "execution_count": 11,
   "metadata": {},
   "outputs": [
    {
     "data": {
      "text/plain": [
       "{'A1': array([[10, -1,  5],\n",
       "        [-2,  1, -3],\n",
       "        [ 1,  4,  1]]),\n",
       " 'A2': array([[ 2, 10,  5],\n",
       "        [ 1, -2, -3],\n",
       "        [ 2,  1,  1]]),\n",
       " 'A3': array([[ 2, -1, 10],\n",
       "        [ 1,  1, -2],\n",
       "        [ 2,  4,  1]])}"
      ]
     },
     "execution_count": 11,
     "metadata": {},
     "output_type": "execute_result"
    }
   ],
   "source": [
    "dict_A"
   ]
  },
  {
   "cell_type": "code",
   "execution_count": 12,
   "metadata": {},
   "outputs": [
    {
     "name": "stdout",
     "output_type": "stream",
     "text": [
      "x1 = 2.0\n",
      "x2 = -1.0\n",
      "x3 = 1.0\n"
     ]
    }
   ],
   "source": [
    "for i in range(A.shape[1]):\n",
    "    print(f'x{i + 1} = {np.linalg.det(dict_A[f\"A{i + 1}\"]) / det_A:.1f}')"
   ]
  },
  {
   "cell_type": "markdown",
   "metadata": {},
   "source": [
    "*Проверка:*"
   ]
  },
  {
   "cell_type": "code",
   "execution_count": 13,
   "metadata": {},
   "outputs": [
    {
     "data": {
      "text/plain": [
       "array([ 2., -1.,  1.])"
      ]
     },
     "execution_count": 13,
     "metadata": {},
     "output_type": "execute_result"
    }
   ],
   "source": [
    "np.linalg.solve(A, b)"
   ]
  },
  {
   "cell_type": "markdown",
   "metadata": {},
   "source": [
    "__Задание 2*.__ Найти $L$-матрицу $LU$-разложения для матрицы коэффициентов:\n",
    "\n",
    "   а)$$\\begin{pmatrix}\n",
    "1 & 2 & 4 \\\\ \n",
    "2 & 9 & 12 \\\\ \n",
    "3 & 26 & 30\n",
    "\\end{pmatrix}$$\n",
    "    \n",
    "   б)$$\\begin{pmatrix}\n",
    "1 & 1 & 2 & 4\\\\ \n",
    "2 & 5 & 8 & 9\\\\ \n",
    "3 & 18 & 29 & 18\\\\\n",
    "4 & 22 & 53 & 33\n",
    "\\end{pmatrix}$$"
   ]
  },
  {
   "cell_type": "markdown",
   "metadata": {},
   "source": [
    "а)"
   ]
  },
  {
   "cell_type": "markdown",
   "metadata": {},
   "source": [
    "$U = \\begin{pmatrix}\n",
    "1 & 2 & 4 \\\\ \n",
    "2 & 9 & 12 \\\\ \n",
    "3 & 26 & 30\n",
    "\\end{pmatrix}=\n",
    "\\begin{pmatrix}\n",
    "1 & 2 & 4 \\\\ \n",
    "0 & 5 & 4 \\\\ \n",
    "3 & 26 & 30\n",
    "\\end{pmatrix}=\n",
    "\\begin{pmatrix}\n",
    "1 & 2 & 4 \\\\ \n",
    "0 & 5 & 4 \\\\ \n",
    "0 & 20 & 18\n",
    "\\end{pmatrix}=\n",
    "\\begin{pmatrix}\n",
    "1 & 2 & 4 \\\\ \n",
    "0 & 5 & 4 \\\\ \n",
    "0 & 0 & 2\n",
    "\\end{pmatrix}$  "
   ]
  },
  {
   "cell_type": "markdown",
   "metadata": {},
   "source": [
    "$L = \\begin{pmatrix}\n",
    "1 & 0 & 0 \\\\ \n",
    "2 & 1 & 0 \\\\ \n",
    "3 & 4 & 1\n",
    "\\end{pmatrix}$\n",
    "\n",
    "    "
   ]
  },
  {
   "cell_type": "markdown",
   "metadata": {},
   "source": [
    "*Проверка:*"
   ]
  },
  {
   "cell_type": "code",
   "execution_count": 14,
   "metadata": {},
   "outputs": [
    {
     "data": {
      "text/plain": [
       "array([[ 1,  2,  4],\n",
       "       [ 2,  9, 12],\n",
       "       [ 3, 26, 30]])"
      ]
     },
     "execution_count": 14,
     "metadata": {},
     "output_type": "execute_result"
    }
   ],
   "source": [
    "U = np.array([[1, 2, 4],\n",
    "              [0, 5, 4],\n",
    "              [0, 0, 2]])\n",
    "\n",
    "L = np.array([[1, 0, 0],\n",
    "              [2, 1, 0],\n",
    "              [3, 4, 1]])\n",
    "\n",
    "L @ U"
   ]
  },
  {
   "cell_type": "markdown",
   "metadata": {},
   "source": [
    "б)"
   ]
  },
  {
   "cell_type": "markdown",
   "metadata": {},
   "source": [
    "$U = \\begin{pmatrix}\n",
    "1 & 1 & 2 & 4\\\\ \n",
    "2 & 5 & 8 & 9\\\\ \n",
    "3 & 18 & 29 & 18\\\\\n",
    "4 & 22 & 53 & 33\n",
    "\\end{pmatrix}=\n",
    "\\begin{pmatrix}\n",
    "1 & 1 & 2 & 4\\\\ \n",
    "0 & 3 & 4 & 1\\\\ \n",
    "0 & 15 & 23 & 6\\\\\n",
    "0 & 18 & 45 & 17\n",
    "\\end{pmatrix}=\n",
    "\\begin{pmatrix}\n",
    "1 & 1 & 2 & 4\\\\ \n",
    "0 & 3 & 4 & 1\\\\ \n",
    "0 & 0 & 3 & 1\\\\\n",
    "0 & 0 & 21 & 11\n",
    "\\end{pmatrix}=\n",
    "\\begin{pmatrix}\n",
    "1 & 1 & 2 & 4\\\\ \n",
    "0 & 3 & 4 & 1\\\\ \n",
    "0 & 0 & 3 & 1\\\\\n",
    "0 & 0 & 0 & 4\n",
    "\\end{pmatrix}$  "
   ]
  },
  {
   "cell_type": "markdown",
   "metadata": {},
   "source": [
    "$L = \\begin{pmatrix}\n",
    "1 & 0 & 0 & 0\\\\ \n",
    "2 & 1 & 0 & 0\\\\ \n",
    "3 & 5 & 1 & 0\\\\\n",
    "4 & 6 & 7 & 1\n",
    "\\end{pmatrix}$  "
   ]
  },
  {
   "cell_type": "markdown",
   "metadata": {},
   "source": [
    "*Проверка:*"
   ]
  },
  {
   "cell_type": "code",
   "execution_count": 15,
   "metadata": {},
   "outputs": [
    {
     "data": {
      "text/plain": [
       "array([[ 1,  1,  2,  4],\n",
       "       [ 2,  5,  8,  9],\n",
       "       [ 3, 18, 29, 18],\n",
       "       [ 4, 22, 53, 33]])"
      ]
     },
     "execution_count": 15,
     "metadata": {},
     "output_type": "execute_result"
    }
   ],
   "source": [
    "U = np.array([[1, 1, 2, 4],\n",
    "              [0, 3, 4, 1],\n",
    "              [0, 0, 3, 1],\n",
    "              [0, 0, 0, 4]])\n",
    "\n",
    "L = np.array([[1, 0, 0, 0],\n",
    "              [2, 1, 0, 0], \n",
    "              [3, 5, 1, 0], \n",
    "              [4, 6, 7, 1]])\n",
    "\n",
    "L @ U"
   ]
  },
  {
   "cell_type": "markdown",
   "metadata": {},
   "source": [
    "__Задание 3*.__ Решить систему линейных уравнений методом $LU$-разложения\n",
    "\n",
    "$$\\begin{cases}\n",
    "2x_{1}+x_{2}+3x_{3}=1 \\\\\n",
    "11x_{1}+7x_{2}+5x_{3}=-6 \\\\\n",
    "9x_{1}+8x_{2}+4x_{3}=-5\n",
    "\\end{cases}$$\n"
   ]
  },
  {
   "cell_type": "code",
   "execution_count": 16,
   "metadata": {},
   "outputs": [],
   "source": [
    "A = np.array([[2, 1, 3],\n",
    "              [11, 7, 5],\n",
    "              [9, 8, 4]])\n",
    "\n",
    "b = np.array([1, -6, -5])"
   ]
  },
  {
   "cell_type": "markdown",
   "metadata": {
    "id": "G3bg4hvUfO2W"
   },
   "source": [
    "$$LUx=b$$"
   ]
  },
  {
   "cell_type": "code",
   "execution_count": 17,
   "metadata": {},
   "outputs": [
    {
     "data": {
      "text/plain": [
       "(array([[ 0.18181818, -0.12      ,  1.        ],\n",
       "        [ 1.        ,  0.        ,  0.        ],\n",
       "        [ 0.81818182,  1.        ,  0.        ]]),\n",
       " array([[11.        ,  7.        ,  5.        ],\n",
       "        [ 0.        ,  2.27272727, -0.09090909],\n",
       "        [ 0.        ,  0.        ,  2.08      ]]))"
      ]
     },
     "execution_count": 17,
     "metadata": {},
     "output_type": "execute_result"
    }
   ],
   "source": [
    "L, U = scipy.linalg.lu(A, permute_l=True)\n",
    "\n",
    "L, U"
   ]
  },
  {
   "cell_type": "code",
   "execution_count": 18,
   "metadata": {},
   "outputs": [
    {
     "data": {
      "text/plain": [
       "True"
      ]
     },
     "execution_count": 18,
     "metadata": {},
     "output_type": "execute_result"
    }
   ],
   "source": [
    "np.allclose(L @ U, A)"
   ]
  },
  {
   "cell_type": "markdown",
   "metadata": {
    "id": "G3bg4hvUfO2W"
   },
   "source": [
    "$$Ly=b \\Rightarrow y=L^{-1}b$$"
   ]
  },
  {
   "cell_type": "code",
   "execution_count": 19,
   "metadata": {},
   "outputs": [
    {
     "data": {
      "text/plain": [
       "array([-6.     , -0.09091,  2.08   ])"
      ]
     },
     "execution_count": 19,
     "metadata": {},
     "output_type": "execute_result"
    }
   ],
   "source": [
    "y = np.linalg.inv(L).dot(b)\n",
    "\n",
    "y.round(5)"
   ]
  },
  {
   "cell_type": "markdown",
   "metadata": {
    "id": "G3bg4hvUfO2W"
   },
   "source": [
    "$$Ux=y \\Rightarrow x=U^{-1}y$$"
   ]
  },
  {
   "cell_type": "code",
   "execution_count": 20,
   "metadata": {},
   "outputs": [
    {
     "data": {
      "text/plain": [
       "array([-1., -0.,  1.])"
      ]
     },
     "execution_count": 20,
     "metadata": {},
     "output_type": "execute_result"
    }
   ],
   "source": [
    "x = np.linalg.inv(U).dot(y)\n",
    "\n",
    "x.round(5)"
   ]
  },
  {
   "cell_type": "markdown",
   "metadata": {},
   "source": [
    "*Проверка:*"
   ]
  },
  {
   "cell_type": "code",
   "execution_count": 21,
   "metadata": {},
   "outputs": [
    {
     "data": {
      "text/plain": [
       "array([-1.,  0.,  1.])"
      ]
     },
     "execution_count": 21,
     "metadata": {},
     "output_type": "execute_result"
    }
   ],
   "source": [
    "np.linalg.solve(A, b)"
   ]
  },
  {
   "cell_type": "markdown",
   "metadata": {},
   "source": [
    "__Задание 4*.__ Решить систему линейных уравнений методом Холецкого\n",
    "\n",
    "$$\\begin{cases}\n",
    "81x_{1}-45x_{2}+45x_{3}=531 \\\\\n",
    "-45x_{1}+50x_{2}-15x_{3}=-460 \\\\\n",
    "45x_{1}-15x_{2}+38x_{3}=193\n",
    "\\end{cases}$$"
   ]
  },
  {
   "cell_type": "code",
   "execution_count": 22,
   "metadata": {},
   "outputs": [],
   "source": [
    "A = np.array([[81, -45, 45],\n",
    "              [-45, 50, -15],\n",
    "              [45, -15, 38]])\n",
    "\n",
    "b = np.array([531, -460, 193])"
   ]
  },
  {
   "cell_type": "markdown",
   "metadata": {},
   "source": [
    "$$Ax=LL^{T}x=Ly=b$$"
   ]
  },
  {
   "cell_type": "code",
   "execution_count": 23,
   "metadata": {},
   "outputs": [
    {
     "data": {
      "text/plain": [
       "(array([[ 9.,  0.,  0.],\n",
       "        [-5.,  5.,  0.],\n",
       "        [ 5.,  2.,  3.]]),\n",
       " array([[ 9., -5.,  5.],\n",
       "        [ 0.,  5.,  2.],\n",
       "        [ 0.,  0.,  3.]]))"
      ]
     },
     "execution_count": 23,
     "metadata": {},
     "output_type": "execute_result"
    }
   ],
   "source": [
    "L = np.linalg.cholesky(A)\n",
    "L, L.T"
   ]
  },
  {
   "cell_type": "code",
   "execution_count": 24,
   "metadata": {},
   "outputs": [
    {
     "data": {
      "text/plain": [
       "True"
      ]
     },
     "execution_count": 24,
     "metadata": {},
     "output_type": "execute_result"
    }
   ],
   "source": [
    "np.allclose(L @ L.T, A)"
   ]
  },
  {
   "cell_type": "markdown",
   "metadata": {
    "id": "G3bg4hvUfO2W"
   },
   "source": [
    "$$Ly=b \\Rightarrow y=L^{-1}b$$"
   ]
  },
  {
   "cell_type": "code",
   "execution_count": 25,
   "metadata": {},
   "outputs": [
    {
     "data": {
      "text/plain": [
       "array([ 59., -33., -12.])"
      ]
     },
     "execution_count": 25,
     "metadata": {},
     "output_type": "execute_result"
    }
   ],
   "source": [
    "L_inv = np.linalg.inv(L)\n",
    "y = L_inv.dot(b)\n",
    "\n",
    "y"
   ]
  },
  {
   "cell_type": "markdown",
   "metadata": {},
   "source": [
    "$$L^{T}x=y \\Rightarrow x=(L^{-1})^Ty$$"
   ]
  },
  {
   "cell_type": "code",
   "execution_count": 26,
   "metadata": {},
   "outputs": [
    {
     "data": {
      "text/plain": [
       "array([ 6., -5., -4.])"
      ]
     },
     "execution_count": 26,
     "metadata": {},
     "output_type": "execute_result"
    }
   ],
   "source": [
    "x = L_inv.T.dot(y)\n",
    "\n",
    "x"
   ]
  },
  {
   "cell_type": "markdown",
   "metadata": {},
   "source": [
    "*Проверка:*"
   ]
  },
  {
   "cell_type": "code",
   "execution_count": 27,
   "metadata": {},
   "outputs": [
    {
     "data": {
      "text/plain": [
       "array([ 6., -5., -4.])"
      ]
     },
     "execution_count": 27,
     "metadata": {},
     "output_type": "execute_result"
    }
   ],
   "source": [
    "np.linalg.solve(A, b)"
   ]
  },
  {
   "cell_type": "markdown",
   "metadata": {},
   "source": [
    "__Задание 5*.__ Написать на Python программу с реализацией одного из изученных алгоритмов решения СЛАУ."
   ]
  },
  {
   "cell_type": "code",
   "execution_count": 28,
   "metadata": {},
   "outputs": [],
   "source": [
    "def gauss(A):\n",
    "    \n",
    "    n = len(A[0]) - 1\n",
    "    x = [0 for _ in range(n)]\n",
    "        \n",
    "    for i in range(n):\n",
    "        \n",
    "        if A[i][i] == 0:\n",
    "            raise SystemExit('Система имеет бесконечное множество решений либо не определена')\n",
    "\n",
    "        for j in range(i + 1, n):\n",
    "            ratio = A[j][i] / A[i][i]\n",
    "\n",
    "            for k in range(n + 1):\n",
    "                A[j][k] -= ratio * A[i][k]\n",
    "\n",
    "    x[n - 1] = A[n - 1][n] / A[n - 1][n - 1]\n",
    "\n",
    "    for i in range(n - 2, -1, -1):\n",
    "\n",
    "        x[i] = A[i][n]\n",
    "\n",
    "        for j in range(i + 1, n):\n",
    "            x[i] -= A[i][j] * x[j]\n",
    "\n",
    "        x[i] /= A[i][i]\n",
    "\n",
    "    for i in range(n):\n",
    "        print(f'x{i + 1} = {x[i]}')"
   ]
  },
  {
   "cell_type": "code",
   "execution_count": 29,
   "metadata": {},
   "outputs": [
    {
     "name": "stdout",
     "output_type": "stream",
     "text": [
      "x1 = -1.0\n",
      "x2 = 0.0\n",
      "x3 = 1.0\n"
     ]
    }
   ],
   "source": [
    "A_ext = [[2, 1, 3, 1],\n",
    "         [11, 7, 5, -6],\n",
    "         [9, 8, 4, -5]]\n",
    "\n",
    "gauss(A_ext)"
   ]
  },
  {
   "cell_type": "code",
   "execution_count": 30,
   "metadata": {},
   "outputs": [
    {
     "name": "stdout",
     "output_type": "stream",
     "text": [
      "x1 = 6.0\n",
      "x2 = -5.0\n",
      "x3 = -4.0\n"
     ]
    }
   ],
   "source": [
    "A_ext = [[81, -45, 45, 531],\n",
    "         [-45, 50, -15, -460],\n",
    "         [45, -15, 38, 193]]\n",
    "\n",
    "gauss(A_ext)"
   ]
  },
  {
   "cell_type": "code",
   "execution_count": 31,
   "metadata": {},
   "outputs": [
    {
     "ename": "SystemExit",
     "evalue": "Система имеет бесконечное множество решений либо не определена",
     "output_type": "error",
     "traceback": [
      "An exception has occurred, use %tb to see the full traceback.\n",
      "\u001b[1;31mSystemExit\u001b[0m\u001b[1;31m:\u001b[0m Система имеет бесконечное множество решений либо не определена\n"
     ]
    }
   ],
   "source": [
    "A_ext = [[2, -4,  6,  1],\n",
    "         [1, -2,  3, -2],\n",
    "         [3, -6,  9,  5]]\n",
    "\n",
    "gauss(A_ext)"
   ]
  }
 ],
 "metadata": {
  "kernelspec": {
   "display_name": "Python 3",
   "language": "python",
   "name": "python3"
  },
  "language_info": {
   "codemirror_mode": {
    "name": "ipython",
    "version": 3
   },
   "file_extension": ".py",
   "mimetype": "text/x-python",
   "name": "python",
   "nbconvert_exporter": "python",
   "pygments_lexer": "ipython3",
   "version": "3.8.6"
  }
 },
 "nbformat": 4,
 "nbformat_minor": 4
}
