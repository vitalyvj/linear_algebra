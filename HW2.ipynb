{
 "cells": [
  {
   "cell_type": "code",
   "execution_count": 1,
   "metadata": {},
   "outputs": [],
   "source": [
    "import numpy as np"
   ]
  },
  {
   "cell_type": "markdown",
   "metadata": {},
   "source": [
    "__Задание 1.__ Найти скалярное произведение векторов $x, y \\in \\mathbb{R}$:<br>\n",
    "а) $x=(0,-3, 6),~y=(-4, 7, 9);$<br>\n",
    "б) $x=(7, -4, 0, 1),~y=(-3, 1, 11, 2).$\n"
   ]
  },
  {
   "cell_type": "markdown",
   "metadata": {},
   "source": [
    "а) $0 \\cdot (-4) -3 \\cdot 7 + 6 \\cdot 9 = 33$"
   ]
  },
  {
   "cell_type": "code",
   "execution_count": 2,
   "metadata": {},
   "outputs": [
    {
     "data": {
      "text/plain": [
       "33"
      ]
     },
     "execution_count": 2,
     "metadata": {},
     "output_type": "execute_result"
    }
   ],
   "source": [
    "x = [0, -3, 6]\n",
    "y = [-4, 7, 9]\n",
    "np.dot(x, y)"
   ]
  },
  {
   "cell_type": "markdown",
   "metadata": {},
   "source": [
    "б) $7 \\cdot (-3) -4 \\cdot 1 + 0 \\cdot 11 + 1 \\cdot 2 = -23$"
   ]
  },
  {
   "cell_type": "code",
   "execution_count": 3,
   "metadata": {},
   "outputs": [
    {
     "data": {
      "text/plain": [
       "-23"
      ]
     },
     "execution_count": 3,
     "metadata": {},
     "output_type": "execute_result"
    }
   ],
   "source": [
    "x = [7, -4, 0, 1]\n",
    "y = [-3, 1, 11, 2]\n",
    "np.dot(x, y)"
   ]
  },
  {
   "cell_type": "markdown",
   "metadata": {},
   "source": [
    "__Задание 2.__ Найти нормы векторов $(4, 2, 4)$ и $(12, 3, 4)$ и угол между ними.\n"
   ]
  },
  {
   "cell_type": "markdown",
   "metadata": {},
   "source": [
    "*Вручную:*"
   ]
  },
  {
   "cell_type": "code",
   "execution_count": 4,
   "metadata": {},
   "outputs": [],
   "source": [
    "x = [4, 2, 4]\n",
    "y = [12, 3, 4]"
   ]
  },
  {
   "cell_type": "markdown",
   "metadata": {},
   "source": [
    "$$\\left\\|x\\right\\| = \\sqrt{\\sum_{i}|x_{i}|^{2}}$$"
   ]
  },
  {
   "cell_type": "code",
   "execution_count": 5,
   "metadata": {},
   "outputs": [
    {
     "data": {
      "text/plain": [
       "(6.0, 13.0)"
      ]
     },
     "execution_count": 5,
     "metadata": {},
     "output_type": "execute_result"
    }
   ],
   "source": [
    "x_norm = np.sqrt(4 ** 2 + 2 ** 2 + 4 ** 2)\n",
    "y_norm = np.sqrt(12 ** 2 + 3 ** 2 + 4 ** 2)\n",
    "\n",
    "x_norm, y_norm"
   ]
  },
  {
   "cell_type": "markdown",
   "metadata": {},
   "source": [
    "$$cos\\varphi = \\frac{(x,y)}{\\left \\|x\\right \\|\\cdot\\left \\|y\\right \\|}$$"
   ]
  },
  {
   "cell_type": "code",
   "execution_count": 6,
   "metadata": {},
   "outputs": [
    {
     "name": "stdout",
     "output_type": "stream",
     "text": [
      "Норма вектора x = 6.0 \n",
      "Норма вектора y = 13.0 \n",
      "Угол между векторами = 26.2 градусов\n"
     ]
    }
   ],
   "source": [
    "product = 4 * 12 + 2 * 3 + 4 * 4\n",
    "cos_phi = product / (x_norm * y_norm)\n",
    "phi = np.rad2deg(np.arccos(cos_phi))\n",
    "\n",
    "print(f'Норма вектора x = {x_norm} \\n\\\n",
    "Норма вектора y = {y_norm} \\n\\\n",
    "Угол между векторами = {phi:.1f} градусов')"
   ]
  },
  {
   "cell_type": "markdown",
   "metadata": {},
   "source": [
    "*С помощью numpy:*"
   ]
  },
  {
   "cell_type": "code",
   "execution_count": 7,
   "metadata": {},
   "outputs": [
    {
     "data": {
      "text/plain": [
       "(6.0, 13.0, 26.2)"
      ]
     },
     "execution_count": 7,
     "metadata": {},
     "output_type": "execute_result"
    }
   ],
   "source": [
    "np.linalg.norm(x), np.linalg.norm(y),\\\n",
    "np.around(np.rad2deg(np.arccos(np.dot(x, y) / (np.linalg.norm(x) * np.linalg.norm(y)))), 1)"
   ]
  },
  {
   "cell_type": "markdown",
   "metadata": {},
   "source": [
    "__Задание 3.__ Будет ли линейное пространство евклидовым, если за скалярное произведение принять:<br>\n",
    "а) произведение длин векторов;<br>\n",
    "б) утроенное обычное скалярное произведение векторов?"
   ]
  },
  {
   "cell_type": "markdown",
   "metadata": {
    "id": "Z04nPQHDc7Z1"
   },
   "source": [
    "Скалярное произведение векторов в евклидовом пространстве должно подчиняться четырем аксиомам:<br>\n",
    "1) $(x,y)=(y,x);$<br>\n",
    "2) $(\\lambda x, y)=\\lambda(x, y);$<br>\n",
    "3) $(x_{1}+x_{2},y)=(x_{1},y)+(x_{2},y);$<br>\n",
    "4) $(x, x)\\geq0$, причем $(x,x)=0\\Leftrightarrow x=0.$"
   ]
  },
  {
   "cell_type": "markdown",
   "metadata": {},
   "source": [
    "а) <br>\n",
    "$1) \\ \\left\\|x\\right\\| \\cdot \\left\\|y\\right\\| = \\left\\|y\\right\\| \\cdot \\left\\|x\\right\\|$ <br>\n",
    "$2) \\ \\left\\| \\lambda x\\right\\| \\cdot \\left\\|y\\right\\| = \\lambda \\cdot (\\left\\|y\\right\\| \\cdot \\left\\|x\\right\\|)$ <br>\n",
    "$3) \\ \\left\\|x_1 + x_2\\right\\| \\cdot \\left\\|y\\right\\| \\leq \\left\\|x_1\\right\\| \\cdot \\left\\|y\\right\\| + \\left\\|x_2\\right\\| \\cdot \\left\\|y\\right\\|$ <br>\n",
    "$4) \\ \\left\\|x\\right\\| \\cdot \\left\\|x\\right\\| \\geq 0, \\left\\|x\\right\\| \\cdot \\left\\|x\\right\\| = 0 \\Leftrightarrow x=0$"
   ]
  },
  {
   "cell_type": "markdown",
   "metadata": {},
   "source": [
    "Третье условие не выполняется $\\Rightarrow$ линейное пространство не будет евклидовым."
   ]
  },
  {
   "cell_type": "markdown",
   "metadata": {},
   "source": [
    "б) <br>\n",
    "$1) \\; 3 \\cdot \\left\\|x\\right\\| \\cdot \\left\\|y\\right\\| \\cdot \\cos \\varphi = 3 \\cdot \\left\\|y\\right\\| \\cdot \\left\\|x\\right\\| \\cdot \\cos \\varphi$ <br>\n",
    "$2) \\; 3 \\cdot \\left\\| \\lambda x\\right\\| \\cdot \\left\\|y\\right\\| \\cdot \\cos \\varphi = 3 \\cdot \\lambda \\cdot \\left\\|y\\right\\| \\cdot \\left\\|x\\right\\| \\cdot \\cos \\varphi$ <br>\n",
    "$3) \\; 3 \\cdot \\left\\|x_1 + x_2\\right\\| \\cdot \\left\\|y\\right\\| \\cdot \\cos \\varphi = 3 \\cdot \\left\\|x_1\\right\\| \\cdot \\left\\|y\\right\\| \\cdot \\cos \\alpha + 3 \\cdot \\left\\|x_2\\right\\| \\cdot \\left\\|y\\right\\| \\cdot \\cos \\beta$ <br>\n",
    "$4) \\; 3 \\cdot \\left\\|x\\right\\| \\cdot \\left\\|x\\right\\| \\cdot \\cos \\varphi \\geq 0, \\ 3 \\cdot \\left\\|x\\right\\| \\cdot \\left\\|x\\right\\| \\cdot \\cos \\varphi = 0 \\Leftrightarrow x=0$"
   ]
  },
  {
   "cell_type": "markdown",
   "metadata": {},
   "source": [
    "Все условия выполняются $\\Rightarrow$ линейное пространство будет евклидовым."
   ]
  },
  {
   "cell_type": "markdown",
   "metadata": {},
   "source": [
    "__Задание 4.__ Какие из нижеперечисленных векторов образуют ортонормированный базис в линейном пространстве $\\mathbb{R}^{3}$:<br>\n",
    "а) $(1,0,0),(0,0,1);$ <br>\n",
    "б) $(1/\\sqrt{2},-1/\\sqrt{2},0),(1/\\sqrt{2},1/\\sqrt{2},0), (0,0,1);$<br>\n",
    "в) $(1/2, -1/2, 0), (0, 1/2, 1/2), (0,0,1);$<br>\n",
    "г) $(1,0,0),(0,1,0),(0,0,1)?$ "
   ]
  },
  {
   "cell_type": "markdown",
   "metadata": {
    "id": "10MxUo4Dc7cc"
   },
   "source": [
    "В конечномерном евклидовом пространстве базис $\\{e_{1},e_{2},...,e_{n}\\}$ называется ортонормированным, если:\n",
    "\n",
    "$(e_{i}, e_{j})=0$ $\\forall$ $i\\neq j$ и $(e_{i},e_{i})=1$ $\\forall$ $i\\in[1, n]$"
   ]
  },
  {
   "cell_type": "code",
   "execution_count": 8,
   "metadata": {},
   "outputs": [],
   "source": [
    "def orthonormal(e): # функция проверки ортонормированного базиса\n",
    "\n",
    "    e_i_e_i, e_i_e_j = [], []\n",
    "\n",
    "    for i in e:\n",
    "        for j in e:\n",
    "            e_i_e_i.append(np.dot(e[i], e[j])) if i == j else e_i_e_j.append(np.dot(e[i], e[j]))\n",
    "            \n",
    "    print(f'(e_i * e_i): {np.around(e_i_e_i, 7)} \\n(e_i * e_j): {np.around(e_i_e_j, 7)}')"
   ]
  },
  {
   "cell_type": "markdown",
   "metadata": {},
   "source": [
    "а)"
   ]
  },
  {
   "cell_type": "code",
   "execution_count": 9,
   "metadata": {},
   "outputs": [
    {
     "name": "stdout",
     "output_type": "stream",
     "text": [
      "(e_i * e_i): [1 1] \n",
      "(e_i * e_j): [0 0]\n"
     ]
    }
   ],
   "source": [
    "orthonormal({\n",
    "    'e1': [1, 0, 0],\n",
    "    'e2': [0, 0, 1]\n",
    "})"
   ]
  },
  {
   "cell_type": "markdown",
   "metadata": {},
   "source": [
    "Следовательно, векторы $(1,0,0), (0,0,1)$ образуют ортонормированный базис в линейном пространстве $\\mathbb{R}^{3}.$"
   ]
  },
  {
   "cell_type": "markdown",
   "metadata": {},
   "source": [
    "б)"
   ]
  },
  {
   "cell_type": "code",
   "execution_count": 10,
   "metadata": {},
   "outputs": [
    {
     "name": "stdout",
     "output_type": "stream",
     "text": [
      "(e_i * e_i): [1. 1. 1.] \n",
      "(e_i * e_j): [0. 0. 0. 0. 0. 0.]\n"
     ]
    }
   ],
   "source": [
    "orthonormal({\n",
    "    'e1': [1 / np.sqrt(2), -1 / np.sqrt(2), 0],\n",
    "    'e2': [1 / np.sqrt(2), 1 / np.sqrt(2), 0],\n",
    "    'e3': [0, 0, 1]\n",
    "})"
   ]
  },
  {
   "cell_type": "markdown",
   "metadata": {},
   "source": [
    "Следовательно, векторы $(1/\\sqrt{2},-1/\\sqrt{2},0),(1/\\sqrt{2},1/\\sqrt{2},0), (0,0,1)$ образуют ортонормированный базис в линейном пространстве $\\mathbb{R}^{3}.$"
   ]
  },
  {
   "cell_type": "markdown",
   "metadata": {},
   "source": [
    "в)"
   ]
  },
  {
   "cell_type": "code",
   "execution_count": 11,
   "metadata": {},
   "outputs": [
    {
     "name": "stdout",
     "output_type": "stream",
     "text": [
      "(e_i * e_i): [0.5 0.5 1. ] \n",
      "(e_i * e_j): [-0.25  0.   -0.25  0.5   0.    0.5 ]\n"
     ]
    }
   ],
   "source": [
    "orthonormal({\n",
    "    'e1': [1 / 2, -1 / 2, 0],\n",
    "    'e2': [0, 1 / 2, 1 / 2],\n",
    "    'e3': [0, 0, 1]\n",
    "})"
   ]
  },
  {
   "cell_type": "markdown",
   "metadata": {},
   "source": [
    "Следовательно, векторы $(1/2, -1/2, 0), (0, 1/2, 1/2), (0,0,1)$ ортонормированный базис в линейном пространстве $\\mathbb{R}^{3}$ не образуют."
   ]
  },
  {
   "cell_type": "markdown",
   "metadata": {},
   "source": [
    "г)"
   ]
  },
  {
   "cell_type": "code",
   "execution_count": 12,
   "metadata": {},
   "outputs": [
    {
     "name": "stdout",
     "output_type": "stream",
     "text": [
      "(e_i * e_i): [1 1 1] \n",
      "(e_i * e_j): [0 0 0 0 0 0]\n"
     ]
    }
   ],
   "source": [
    "orthonormal({\n",
    "    'e1': [1, 0, 0],\n",
    "    'e2': [0, 1, 0],\n",
    "    'e3': [0, 0, 1]\n",
    "})"
   ]
  },
  {
   "cell_type": "markdown",
   "metadata": {},
   "source": [
    "Следовательно, векторы $(1,0,0),(0,1,0),(0,0,1)$ образуют ортонормированный базис в линейном пространстве $\\mathbb{R}^{3}.$"
   ]
  }
 ],
 "metadata": {
  "kernelspec": {
   "display_name": "Python 3",
   "language": "python",
   "name": "python3"
  },
  "language_info": {
   "codemirror_mode": {
    "name": "ipython",
    "version": 3
   },
   "file_extension": ".py",
   "mimetype": "text/x-python",
   "name": "python",
   "nbconvert_exporter": "python",
   "pygments_lexer": "ipython3",
   "version": "3.8.6rc1"
  }
 },
 "nbformat": 4,
 "nbformat_minor": 4
}
